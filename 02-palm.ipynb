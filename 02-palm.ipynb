{
 "cells": [
  {
   "cell_type": "markdown",
   "id": "87b035e8-60e1-42f1-8e49-54ca2262907d",
   "metadata": {},
   "source": [
    "## Document Reviewer with Palm\n",
    "\n",
    "### Goals\n",
    "We want to explore how Cohere perform as a document reviewer. Given a technical documentation, can Cohere generate an improved version of it better than other LLMs?\n",
    "\n",
    "### Techniques\n",
    "\n",
    "\n",
    "- all-in-one prompt: we first start by putting all the desired outcome in a single prompt\n",
    "- multiple prompts by roles: we feed the document into individual prompts that does only one thing. The completion is then fed into another prompt until it goes through all the chain\n",
    "- decomposition: we ask the LLM to decompose the document first, and then convert the documents content to questions instead. Then we ask the LLM to answer the questions and then reconstruct the document."
   ]
  },
  {
   "cell_type": "markdown",
   "id": "32415416-a344-4ad2-956d-7d45b17fcb93",
   "metadata": {},
   "source": [
    "### Loading\n",
    "\n",
    "We first load our sample document to improve."
   ]
  },
  {
   "cell_type": "code",
   "execution_count": 1,
   "id": "08107821-ec49-4da4-9eb0-287c6a5ef874",
   "metadata": {},
   "outputs": [],
   "source": [
    "document = \"\"\"\n",
    "# Use Constant\n",
    "\n",
    "\n",
    "## Avoid const*.go\n",
    "\n",
    "Avoid naming files with any variation of `const.go` to store constants.\n",
    "\n",
    "Each constant serves a purpose, and they probably should belong to domain layer.\n",
    "\n",
    "\n",
    "## Don't uppercase constant\n",
    "\n",
    "\n",
    "```go\n",
    "// Bad\n",
    "const CODE_NOT_FOUND = 404\n",
    "\n",
    "\n",
    "// Good\n",
    "const CodeNotFound = 404\n",
    "```\n",
    "\n",
    "## Prefer constructor over constant\n",
    "\n",
    "\n",
    "There are many times where constructor proves to be more useful than plain constant.\n",
    "\n",
    "For example, you may have a constant to declare the expiry time of a campaign:\n",
    "\n",
    "\n",
    "```go\n",
    "var CampaignExpiredAt = time.Date(2023, time.January, 1, 0, 0, 0, 0, time.Local)\n",
    "```\n",
    "\n",
    "However, it doesn't serve much purpose there. Instead, add an accompanying function that utilizes it.\n",
    "\n",
    "```go\n",
    "package main\n",
    "\n",
    "import (\n",
    "\t\"fmt\"\n",
    "\t\"time\"\n",
    ")\n",
    "\n",
    "var CampaignExpiredAt = time.Date(2023, time.January, 1, 0, 0, 0, 0, time.Local)\n",
    "\n",
    "func CampaignActive(now time.Time) bool {\n",
    "\treturn now.Before(CampaignExpiredAt)\n",
    "}\n",
    "\n",
    "func main() {\n",
    "\tnow := time.Now()\n",
    "\tfmt.Println(now)\n",
    "\tfmt.Println(CampaignActive(now))\n",
    "}\n",
    "```\n",
    "\n",
    "\n",
    "Other examples includes\n",
    "- base url\n",
    "- expiry duration\n",
    "- cache prefix key\n",
    "\"\"\""
   ]
  },
  {
   "cell_type": "code",
   "execution_count": 2,
   "id": "74d9868f-9180-49f7-996a-6b35b8b5796f",
   "metadata": {},
   "outputs": [],
   "source": [
    "from IPython.display import Markdown"
   ]
  },
  {
   "cell_type": "code",
   "execution_count": 3,
   "id": "a0481e52-3168-4651-a1e2-ad895911d06c",
   "metadata": {},
   "outputs": [
    {
     "data": {
      "text/markdown": [
       "\n",
       "# Use Constant\n",
       "\n",
       "\n",
       "## Avoid const*.go\n",
       "\n",
       "Avoid naming files with any variation of `const.go` to store constants.\n",
       "\n",
       "Each constant serves a purpose, and they probably should belong to domain layer.\n",
       "\n",
       "\n",
       "## Don't uppercase constant\n",
       "\n",
       "\n",
       "```go\n",
       "// Bad\n",
       "const CODE_NOT_FOUND = 404\n",
       "\n",
       "\n",
       "// Good\n",
       "const CodeNotFound = 404\n",
       "```\n",
       "\n",
       "## Prefer constructor over constant\n",
       "\n",
       "\n",
       "There are many times where constructor proves to be more useful than plain constant.\n",
       "\n",
       "For example, you may have a constant to declare the expiry time of a campaign:\n",
       "\n",
       "\n",
       "```go\n",
       "var CampaignExpiredAt = time.Date(2023, time.January, 1, 0, 0, 0, 0, time.Local)\n",
       "```\n",
       "\n",
       "However, it doesn't serve much purpose there. Instead, add an accompanying function that utilizes it.\n",
       "\n",
       "```go\n",
       "package main\n",
       "\n",
       "import (\n",
       "\t\"fmt\"\n",
       "\t\"time\"\n",
       ")\n",
       "\n",
       "var CampaignExpiredAt = time.Date(2023, time.January, 1, 0, 0, 0, 0, time.Local)\n",
       "\n",
       "func CampaignActive(now time.Time) bool {\n",
       "\treturn now.Before(CampaignExpiredAt)\n",
       "}\n",
       "\n",
       "func main() {\n",
       "\tnow := time.Now()\n",
       "\tfmt.Println(now)\n",
       "\tfmt.Println(CampaignActive(now))\n",
       "}\n",
       "```\n",
       "\n",
       "\n",
       "Other examples includes\n",
       "- base url\n",
       "- expiry duration\n",
       "- cache prefix key\n"
      ],
      "text/plain": [
       "<IPython.core.display.Markdown object>"
      ]
     },
     "execution_count": 3,
     "metadata": {},
     "output_type": "execute_result"
    }
   ],
   "source": [
    "Markdown(document)"
   ]
  },
  {
   "cell_type": "code",
   "execution_count": 4,
   "id": "b0bdea45-9b9b-4c34-b3a8-72c97340244a",
   "metadata": {},
   "outputs": [
    {
     "name": "stderr",
     "output_type": "stream",
     "text": [
      "/Users/alextanhongpin/Documents/python/python-prompting/.venv/lib/python3.11/site-packages/tqdm/auto.py:21: TqdmWarning: IProgress not found. Please update jupyter and ipywidgets. See https://ipywidgets.readthedocs.io/en/stable/user_install.html\n",
      "  from .autonotebook import tqdm as notebook_tqdm\n"
     ]
    }
   ],
   "source": [
    "import app.palm as palm"
   ]
  },
  {
   "cell_type": "code",
   "execution_count": 5,
   "id": "c86ecc23-27f1-42de-9c9c-88346bf40c6b",
   "metadata": {},
   "outputs": [],
   "source": [
    "prompt = \"\"\"\n",
    "You are an experienced technical writer.\n",
    "Given a technical documentation, improve the content by elaborating on the key insights.\n",
    "\n",
    "Document:\n",
    "{document}\n",
    "\"\"\""
   ]
  },
  {
   "cell_type": "code",
   "execution_count": 6,
   "id": "f9e79334-afa9-440b-bb10-5979bc0f11ef",
   "metadata": {},
   "outputs": [
    {
     "data": {
      "text/plain": [
       "\"**Avoid const*.go**\\n\\nNaming files with any variation of `const.go` to store constants is not recommended. Each constant serves a purpose, and they probably should belong to the domain layer. For example, a constant that represents the expiry time of a campaign should be defined in the campaign package, not in a separate file called `const.go`.\\n\\n**Don't uppercase constant**\\n\\nGolang's style guide recommends that constants be written in all lowercase letters with underscores between words. For example, `const CodeNotFound = 404`. This makes constants easier to read and understand.\\n\\n**Prefer constructor over constant**\\n\\nIn some cases, a constructor can be more useful than a plain constant. For example, you may have a constant to declare the expiry time of a campaign:\\n\\n```go\\nvar CampaignExpiredAt = time.Date(2023, time.January, 1, 0, 0, 0, 0, time.Local)\\n```\\n\\nHowever, this constant doesn't serve much purpose on its own. It would be more useful to have a function that utilizes the constant, such as:\\n\\n```go\\nfunc CampaignActive(now time.Time) bool {\\n\\treturn now.Before(CampaignExpiredAt)\\n}\\n```\\n\\nThis function takes a `time.Time` object as its input and returns a boolean value indicating whether the campaign is still active. This is a more useful representation of the constant than the constant itself.\\n\\n**Other examples of constants**\\n\\nIn addition to the examples mentioned above, there are many other cases where constants can be useful. Some common examples include:\\n\\n* Base URL: A constant that represents the base URL of a web service can be used to construct requests to that service.\\n* Expiry duration: A constant that represents the duration for which a cache entry should be valid can be used to ensure that cached data is not stale.\\n* Cache prefix key: A constant that represents the prefix for cache keys can be used to ensure that cache keys are unique.\\n\\nBy following these guidelines, you can use constants effectively in your Golang code.\""
      ]
     },
     "execution_count": 6,
     "metadata": {},
     "output_type": "execute_result"
    }
   ],
   "source": [
    "completion = palm.generate_text(prompt.format(document=document))\n",
    "completion"
   ]
  },
  {
   "cell_type": "code",
   "execution_count": 7,
   "id": "c50bd785-1231-4e19-90ec-038578138289",
   "metadata": {},
   "outputs": [
    {
     "data": {
      "text/markdown": [
       "**Avoid const*.go**\n",
       "\n",
       "Naming files with any variation of `const.go` to store constants is not recommended. Each constant serves a purpose, and they probably should belong to the domain layer. For example, a constant that represents the expiry time of a campaign should be defined in the campaign package, not in a separate file called `const.go`.\n",
       "\n",
       "**Don't uppercase constant**\n",
       "\n",
       "Golang's style guide recommends that constants be written in all lowercase letters with underscores between words. For example, `const CodeNotFound = 404`. This makes constants easier to read and understand.\n",
       "\n",
       "**Prefer constructor over constant**\n",
       "\n",
       "In some cases, a constructor can be more useful than a plain constant. For example, you may have a constant to declare the expiry time of a campaign:\n",
       "\n",
       "```go\n",
       "var CampaignExpiredAt = time.Date(2023, time.January, 1, 0, 0, 0, 0, time.Local)\n",
       "```\n",
       "\n",
       "However, this constant doesn't serve much purpose on its own. It would be more useful to have a function that utilizes the constant, such as:\n",
       "\n",
       "```go\n",
       "func CampaignActive(now time.Time) bool {\n",
       "\treturn now.Before(CampaignExpiredAt)\n",
       "}\n",
       "```\n",
       "\n",
       "This function takes a `time.Time` object as its input and returns a boolean value indicating whether the campaign is still active. This is a more useful representation of the constant than the constant itself.\n",
       "\n",
       "**Other examples of constants**\n",
       "\n",
       "In addition to the examples mentioned above, there are many other cases where constants can be useful. Some common examples include:\n",
       "\n",
       "* Base URL: A constant that represents the base URL of a web service can be used to construct requests to that service.\n",
       "* Expiry duration: A constant that represents the duration for which a cache entry should be valid can be used to ensure that cached data is not stale.\n",
       "* Cache prefix key: A constant that represents the prefix for cache keys can be used to ensure that cache keys are unique.\n",
       "\n",
       "By following these guidelines, you can use constants effectively in your Golang code."
      ],
      "text/plain": [
       "<IPython.core.display.Markdown object>"
      ]
     },
     "execution_count": 7,
     "metadata": {},
     "output_type": "execute_result"
    }
   ],
   "source": [
    "Markdown(completion)"
   ]
  },
  {
   "cell_type": "code",
   "execution_count": 8,
   "id": "80eecdb9-1906-4587-a729-873e8cf6e347",
   "metadata": {},
   "outputs": [
    {
     "data": {
      "text/plain": [
       "'# Use Constant\\n\\nConstants are useful for storing values that will not change throughout the lifetime of your program. They can be declared at the package level or within a function.\\n\\n## Avoid const*.go\\n\\nAvoid naming files with any variation of `const.go` to store constants.\\n\\nEach constant serves a purpose, and they probably should belong to domain layer. For example, if you have a constant for the expiry time of a campaign, it would make sense to store that constant in the campaign package.\\n\\n## Don\\'t uppercase constant\\n\\nGolang has a convention of using lowercased names for constants. This makes it easier to read and understand code.\\n\\n```go\\n// Bad\\nconst CODE_NOT_FOUND = 404\\n\\n\\n// Good\\nconst CodeNotFound = 404\\n```\\n\\n## Prefer constructor over constant\\n\\nThere are many times where constructor proves to be more useful than plain constant.\\n\\nFor example, you may have a constant to declare the expiry time of a campaign:\\n\\n```go\\nvar CampaignExpiredAt = time.Date(2023, time.January, 1, 0, 0, 0, 0, time.Local)\\n```\\n\\nHowever, it doesn\\'t serve much purpose there. Instead, add an accompanying function that utilizes it.\\n\\n```go\\npackage main\\n\\nimport (\\n\\t\"fmt\"\\n\\t\"time\"\\n)\\n\\nvar CampaignExpiredAt = time.Date(2023, time.January, 1, 0, 0, 0, 0, time.Local)\\n\\nfunc CampaignActive(now time.Time) bool {\\n\\treturn now.Before(CampaignExpiredAt)\\n}\\n\\nfunc main() {\\n\\tnow := time.Now()\\n\\tfmt.Println(now)\\n\\tfmt.Println(CampaignActive(now))\\n}\\n```\\n\\nThis constructor takes a `time.Time` argument and returns a boolean value indicating whether the campaign is still active. This is more useful than the constant because it allows us to check the campaign\\'s expiry time at runtime.\\n\\nOther examples of constants that can be replaced with constructors include:\\n\\n- base url\\n- expiry duration\\n- cache prefix key\\n\\nBy using constructors instead of constants, we can make our code more readable and maintainable.'"
      ]
     },
     "execution_count": 8,
     "metadata": {},
     "output_type": "execute_result"
    }
   ],
   "source": [
    "prompt = \"\"\"\n",
    "You are an experienced technical writer.\n",
    "Given a technical documentation, improve the content by elaborating on the key insights.\n",
    "Keep the code samples unchanged. Return only the improved document.\n",
    "\n",
    "Document:\n",
    "{document}\n",
    "\"\"\"\n",
    "\n",
    "completion = palm.generate_text(prompt.format(document=document))\n",
    "completion"
   ]
  },
  {
   "cell_type": "code",
   "execution_count": 9,
   "id": "6fbc745d-43ee-4eca-9ef1-191f5b19bb4b",
   "metadata": {},
   "outputs": [
    {
     "data": {
      "text/markdown": [
       "# Use Constant\n",
       "\n",
       "Constants are useful for storing values that will not change throughout the lifetime of your program. They can be declared at the package level or within a function.\n",
       "\n",
       "## Avoid const*.go\n",
       "\n",
       "Avoid naming files with any variation of `const.go` to store constants.\n",
       "\n",
       "Each constant serves a purpose, and they probably should belong to domain layer. For example, if you have a constant for the expiry time of a campaign, it would make sense to store that constant in the campaign package.\n",
       "\n",
       "## Don't uppercase constant\n",
       "\n",
       "Golang has a convention of using lowercased names for constants. This makes it easier to read and understand code.\n",
       "\n",
       "```go\n",
       "// Bad\n",
       "const CODE_NOT_FOUND = 404\n",
       "\n",
       "\n",
       "// Good\n",
       "const CodeNotFound = 404\n",
       "```\n",
       "\n",
       "## Prefer constructor over constant\n",
       "\n",
       "There are many times where constructor proves to be more useful than plain constant.\n",
       "\n",
       "For example, you may have a constant to declare the expiry time of a campaign:\n",
       "\n",
       "```go\n",
       "var CampaignExpiredAt = time.Date(2023, time.January, 1, 0, 0, 0, 0, time.Local)\n",
       "```\n",
       "\n",
       "However, it doesn't serve much purpose there. Instead, add an accompanying function that utilizes it.\n",
       "\n",
       "```go\n",
       "package main\n",
       "\n",
       "import (\n",
       "\t\"fmt\"\n",
       "\t\"time\"\n",
       ")\n",
       "\n",
       "var CampaignExpiredAt = time.Date(2023, time.January, 1, 0, 0, 0, 0, time.Local)\n",
       "\n",
       "func CampaignActive(now time.Time) bool {\n",
       "\treturn now.Before(CampaignExpiredAt)\n",
       "}\n",
       "\n",
       "func main() {\n",
       "\tnow := time.Now()\n",
       "\tfmt.Println(now)\n",
       "\tfmt.Println(CampaignActive(now))\n",
       "}\n",
       "```\n",
       "\n",
       "This constructor takes a `time.Time` argument and returns a boolean value indicating whether the campaign is still active. This is more useful than the constant because it allows us to check the campaign's expiry time at runtime.\n",
       "\n",
       "Other examples of constants that can be replaced with constructors include:\n",
       "\n",
       "- base url\n",
       "- expiry duration\n",
       "- cache prefix key\n",
       "\n",
       "By using constructors instead of constants, we can make our code more readable and maintainable."
      ],
      "text/plain": [
       "<IPython.core.display.Markdown object>"
      ]
     },
     "execution_count": 9,
     "metadata": {},
     "output_type": "execute_result"
    }
   ],
   "source": [
    "Markdown(completion)"
   ]
  },
  {
   "cell_type": "code",
   "execution_count": 22,
   "id": "a5299a8d-12c2-4677-bb5a-f79b04bcfbfc",
   "metadata": {},
   "outputs": [
    {
     "data": {
      "text/plain": [
       "'## Use Constant\\n\\n### Avoid const*.go\\n\\nAvoid naming files with any variation of `const.go` to store constants.\\n\\nEach constant serves a purpose, and they probably should belong to domain layer.\\n\\n### Don\\'t uppercase constant\\n\\n```go\\n// Bad\\nconst CODE_NOT_FOUND = 404\\n\\n\\n// Good\\nconst CodeNotFound = 404\\n```\\n\\n### Prefer constructor over constant\\n\\nThere are many times where constructor proves to be more useful than plain constant.\\n\\nFor example, you may have a constant to declare the expiry time of a campaign:\\n\\n```go\\nvar CampaignExpiredAt = time.Date(2023, time.January, 1, 0, 0, 0, 0, time.Local)\\n```\\n\\nHowever, it doesn\\'t serve much purpose there. Instead, add an accompanying function that utilizes it.\\n\\n```go\\npackage main\\n\\nimport (\\n\\t\"fmt\"\\n\\t\"time\"\\n)\\n\\nvar CampaignExpiredAt = time.Date(2023, time.January, 1, 0, 0, 0, 0, time.Local)\\n\\nfunc CampaignActive(now time.Time) bool {\\n\\treturn now.Before(CampaignExpiredAt)\\n}\\n\\nfunc main() {\\n\\tnow := time.Now()\\n\\tfmt.Println(now)\\n\\tfmt.Println(CampaignActive(now))\\n}\\n```\\n\\nOther examples includes\\n- base url\\n- expiry duration\\n- cache prefix key\\n\\n### Additional points\\n\\n* Use `iota` to generate sequential integer constants.\\n* Use `string` constants for non-numeric values.\\n* Use `json` tags to document constants.\\n* Use `go generate` to generate constants from a .csv file.\\n\\n### Critical questions\\n\\n* What is the difference between a constant and a variable?\\n* Why should I use constructors over constants?\\n* What are some best practices for using constants?\\n\\n### Clear and simple answers\\n\\n* A constant is a value that cannot be changed during program execution, while a variable can be changed.\\n* Constructors are more useful than constants because they can be used to create new values of the constant type, while constants cannot be changed.\\n* Some best practices for using constants include: using `iota` to generate sequential integer constants, using `string` constants for non-numeric values, using `json` tags to document constants, and using `go generate` to generate constants from a .csv file.'"
      ]
     },
     "execution_count": 22,
     "metadata": {},
     "output_type": "execute_result"
    }
   ],
   "source": [
    "prompt = \"\"\"\n",
    "You are provided a technical document. Think step by step.\n",
    "1. extract the key topic of this document. \n",
    "2. suggest points about this topic that is not already present in the document\n",
    "3. ask critical and relevant questions about the topics\n",
    "4. attempt to answer the questions about the topic, providing clear and simple explanation.\n",
    "\n",
    "Summarize all of it into an improved version of the document. Return only the improved version in Markdown.\n",
    "\n",
    "Document:\n",
    "----------------------------------------\n",
    "{document}\n",
    "----------------------------------------\n",
    "\"\"\"\n",
    "\n",
    "completion = palm.generate_text(prompt.format(document=document))\n",
    "completion"
   ]
  },
  {
   "cell_type": "code",
   "execution_count": 23,
   "id": "7cdce67e-b153-497b-9c13-83191e782637",
   "metadata": {},
   "outputs": [
    {
     "data": {
      "text/markdown": [
       "## Use Constant\n",
       "\n",
       "### Avoid const*.go\n",
       "\n",
       "Avoid naming files with any variation of `const.go` to store constants.\n",
       "\n",
       "Each constant serves a purpose, and they probably should belong to domain layer.\n",
       "\n",
       "### Don't uppercase constant\n",
       "\n",
       "```go\n",
       "// Bad\n",
       "const CODE_NOT_FOUND = 404\n",
       "\n",
       "\n",
       "// Good\n",
       "const CodeNotFound = 404\n",
       "```\n",
       "\n",
       "### Prefer constructor over constant\n",
       "\n",
       "There are many times where constructor proves to be more useful than plain constant.\n",
       "\n",
       "For example, you may have a constant to declare the expiry time of a campaign:\n",
       "\n",
       "```go\n",
       "var CampaignExpiredAt = time.Date(2023, time.January, 1, 0, 0, 0, 0, time.Local)\n",
       "```\n",
       "\n",
       "However, it doesn't serve much purpose there. Instead, add an accompanying function that utilizes it.\n",
       "\n",
       "```go\n",
       "package main\n",
       "\n",
       "import (\n",
       "\t\"fmt\"\n",
       "\t\"time\"\n",
       ")\n",
       "\n",
       "var CampaignExpiredAt = time.Date(2023, time.January, 1, 0, 0, 0, 0, time.Local)\n",
       "\n",
       "func CampaignActive(now time.Time) bool {\n",
       "\treturn now.Before(CampaignExpiredAt)\n",
       "}\n",
       "\n",
       "func main() {\n",
       "\tnow := time.Now()\n",
       "\tfmt.Println(now)\n",
       "\tfmt.Println(CampaignActive(now))\n",
       "}\n",
       "```\n",
       "\n",
       "Other examples includes\n",
       "- base url\n",
       "- expiry duration\n",
       "- cache prefix key\n",
       "\n",
       "### Additional points\n",
       "\n",
       "* Use `iota` to generate sequential integer constants.\n",
       "* Use `string` constants for non-numeric values.\n",
       "* Use `json` tags to document constants.\n",
       "* Use `go generate` to generate constants from a .csv file.\n",
       "\n",
       "### Critical questions\n",
       "\n",
       "* What is the difference between a constant and a variable?\n",
       "* Why should I use constructors over constants?\n",
       "* What are some best practices for using constants?\n",
       "\n",
       "### Clear and simple answers\n",
       "\n",
       "* A constant is a value that cannot be changed during program execution, while a variable can be changed.\n",
       "* Constructors are more useful than constants because they can be used to create new values of the constant type, while constants cannot be changed.\n",
       "* Some best practices for using constants include: using `iota` to generate sequential integer constants, using `string` constants for non-numeric values, using `json` tags to document constants, and using `go generate` to generate constants from a .csv file."
      ],
      "text/plain": [
       "<IPython.core.display.Markdown object>"
      ]
     },
     "execution_count": 23,
     "metadata": {},
     "output_type": "execute_result"
    }
   ],
   "source": [
    "Markdown(completion)"
   ]
  },
  {
   "cell_type": "code",
   "execution_count": 24,
   "id": "a544bbf1-ca6c-4da9-90df-c5b5312608f2",
   "metadata": {},
   "outputs": [
    {
     "data": {
      "text/plain": [
       "'## ADR: Use Constant\\n\\n### Objective\\n\\nThe objective of this ADR is to define the best practices for using constants in Golang.\\n\\n### Background\\n\\nConstants are values that cannot be changed during program execution. They are typically used to represent values that are known at compile time, such as pi or the number of days in a year.\\n\\n### Proposed Solution\\n\\nThe following are some best practices for using constants in Golang:\\n\\n* Use `iota` to generate sequential integer constants.\\n* Use `string` constants for non-numeric values.\\n* Use `json` tags to document constants.\\n* Use `go generate` to generate constants from a .csv file.\\n\\n### Rationale\\n\\nUsing `iota` to generate sequential integer constants can help to improve the readability and maintainability of your code. Using `string` constants for non-numeric values can help to avoid errors caused by typos. Using `json` tags to document constants can help to make your code more readable and understandable. Using `go generate` to generate constants from a .csv file can help to save time and effort.\\n\\n### Implementation Plan\\n\\nThe following are the steps involved in implementing the proposed solution:\\n\\n1. Add the following import statements to your Golang project:\\n\\n```\\nimport \"fmt\"\\nimport \"time\"\\n```\\n\\n2. Define a constant to represent the number of days in a year:\\n\\n```\\nconst DaysInYear = 365\\n```\\n\\n3. Use `iota` to generate a sequence of integer constants:\\n\\n```\\nconst (\\n    Day1 = iota\\n    Day2\\n    Day3\\n    Day4\\n    Day5\\n)\\n```\\n\\n4. Define a constant to represent the base URL of your API:\\n\\n```\\nconst BaseURL = \"https://api.example.com\"\\n```\\n\\n5. Use `json` tags to document your constants:\\n\\n```\\nconst (\\n    // ExpiryDuration is the duration after which a cache entry expires.\\n    ExpiryDuration = time.Hour * 24\\n)\\n```\\n\\n6. Use `go generate` to generate constants from a .csv file:\\n\\n```\\n//go:generate go run github.com/golang/tools/cmd/stringer -type=Currency\\n```\\n\\n### Testing Plan\\n\\nThe following tests can be used to test the proposed solution:\\n\\n* Test that the constants are defined correctly.\\n* Test that the constants are used correctly in your code.\\n* Test that the constants are documented correctly.\\n\\n### Deployment Plan\\n\\nThe following steps are involved in deploying the proposed solution:\\n\\n1. Commit the changes to your code repository.\\n2. Push the changes to your remote repository.\\n3. Deploy the changes to your production environment.\\n\\n### Monitoring Plan\\n\\nThe following metrics can be used to monitor the proposed solution:\\n\\n* The number of constants defined in your code.\\n* The number of times the constants are used in your code.\\n* The number of errors caused by typos in your constants.\\n\\n### Conclusion\\n\\nThe proposed solution provides a number of benefits, including:\\n\\n* Improved readability and maintainability of your code.\\n* Reduced risk of errors caused by typos.\\n* Improved documentation of your code.\\n* Reduced time and effort required to generate constants.\\n\\nI recommend that you adopt the proposed solution in your Golang projects.'"
      ]
     },
     "execution_count": 24,
     "metadata": {},
     "output_type": "execute_result"
    }
   ],
   "source": [
    "prompt = \"\"\"\n",
    "You are given summaries of a technical document on a specific topic.\n",
    "Write an ADR about this topic based on the provided summary. \n",
    "Return the ADR in Markdown format.\n",
    "\n",
    "Summaries:\n",
    "{summary}\n",
    "\"\"\"\n",
    "completion = palm.generate_text(prompt.format(summary=completion))\n",
    "completion"
   ]
  },
  {
   "cell_type": "code",
   "execution_count": 25,
   "id": "a179f5e6-637a-42d3-ab47-ee3ef3b062b0",
   "metadata": {},
   "outputs": [
    {
     "data": {
      "text/markdown": [
       "## ADR: Use Constant\n",
       "\n",
       "### Objective\n",
       "\n",
       "The objective of this ADR is to define the best practices for using constants in Golang.\n",
       "\n",
       "### Background\n",
       "\n",
       "Constants are values that cannot be changed during program execution. They are typically used to represent values that are known at compile time, such as pi or the number of days in a year.\n",
       "\n",
       "### Proposed Solution\n",
       "\n",
       "The following are some best practices for using constants in Golang:\n",
       "\n",
       "* Use `iota` to generate sequential integer constants.\n",
       "* Use `string` constants for non-numeric values.\n",
       "* Use `json` tags to document constants.\n",
       "* Use `go generate` to generate constants from a .csv file.\n",
       "\n",
       "### Rationale\n",
       "\n",
       "Using `iota` to generate sequential integer constants can help to improve the readability and maintainability of your code. Using `string` constants for non-numeric values can help to avoid errors caused by typos. Using `json` tags to document constants can help to make your code more readable and understandable. Using `go generate` to generate constants from a .csv file can help to save time and effort.\n",
       "\n",
       "### Implementation Plan\n",
       "\n",
       "The following are the steps involved in implementing the proposed solution:\n",
       "\n",
       "1. Add the following import statements to your Golang project:\n",
       "\n",
       "```\n",
       "import \"fmt\"\n",
       "import \"time\"\n",
       "```\n",
       "\n",
       "2. Define a constant to represent the number of days in a year:\n",
       "\n",
       "```\n",
       "const DaysInYear = 365\n",
       "```\n",
       "\n",
       "3. Use `iota` to generate a sequence of integer constants:\n",
       "\n",
       "```\n",
       "const (\n",
       "    Day1 = iota\n",
       "    Day2\n",
       "    Day3\n",
       "    Day4\n",
       "    Day5\n",
       ")\n",
       "```\n",
       "\n",
       "4. Define a constant to represent the base URL of your API:\n",
       "\n",
       "```\n",
       "const BaseURL = \"https://api.example.com\"\n",
       "```\n",
       "\n",
       "5. Use `json` tags to document your constants:\n",
       "\n",
       "```\n",
       "const (\n",
       "    // ExpiryDuration is the duration after which a cache entry expires.\n",
       "    ExpiryDuration = time.Hour * 24\n",
       ")\n",
       "```\n",
       "\n",
       "6. Use `go generate` to generate constants from a .csv file:\n",
       "\n",
       "```\n",
       "//go:generate go run github.com/golang/tools/cmd/stringer -type=Currency\n",
       "```\n",
       "\n",
       "### Testing Plan\n",
       "\n",
       "The following tests can be used to test the proposed solution:\n",
       "\n",
       "* Test that the constants are defined correctly.\n",
       "* Test that the constants are used correctly in your code.\n",
       "* Test that the constants are documented correctly.\n",
       "\n",
       "### Deployment Plan\n",
       "\n",
       "The following steps are involved in deploying the proposed solution:\n",
       "\n",
       "1. Commit the changes to your code repository.\n",
       "2. Push the changes to your remote repository.\n",
       "3. Deploy the changes to your production environment.\n",
       "\n",
       "### Monitoring Plan\n",
       "\n",
       "The following metrics can be used to monitor the proposed solution:\n",
       "\n",
       "* The number of constants defined in your code.\n",
       "* The number of times the constants are used in your code.\n",
       "* The number of errors caused by typos in your constants.\n",
       "\n",
       "### Conclusion\n",
       "\n",
       "The proposed solution provides a number of benefits, including:\n",
       "\n",
       "* Improved readability and maintainability of your code.\n",
       "* Reduced risk of errors caused by typos.\n",
       "* Improved documentation of your code.\n",
       "* Reduced time and effort required to generate constants.\n",
       "\n",
       "I recommend that you adopt the proposed solution in your Golang projects."
      ],
      "text/plain": [
       "<IPython.core.display.Markdown object>"
      ]
     },
     "execution_count": 25,
     "metadata": {},
     "output_type": "execute_result"
    }
   ],
   "source": [
    "Markdown(completion)"
   ]
  },
  {
   "cell_type": "code",
   "execution_count": 18,
   "id": "af8add58-ae5c-4db9-a16f-667253fd1f97",
   "metadata": {},
   "outputs": [
    {
     "data": {
      "text/plain": [
       "\"* **Title:** The title of the RFC document should be short and concise, and should accurately reflect the contents of the document.\\n* **Status:** The status of the RFC document should be indicated at the beginning of the document. The possible statuses are:\\n    * **Proposed Standard:** This is the highest status that an RFC document can achieve. A Proposed Standard RFC document is considered to be a stable and well-tested specification that is ready for widespread deployment.\\n    * **Draft Standard:** A Draft Standard RFC document is a proposed standard that is still under development. Draft Standard RFC documents are not considered to be stable or well-tested, and should not be deployed in production environments.\\n    * **Informational:** An Informational RFC document is a document that provides information about a particular topic, but does not specify a standard. Informational RFC documents are not intended to be implemented, and should not be deployed in production environments.\\n* **Abstract:** The abstract of the RFC document should provide a brief overview of the contents of the document.\\n* **Body:** The body of the RFC document should contain the detailed specifications of the proposed standard. The body should be written in a clear and concise manner, and should be easy to understand.\\n* **References:** The references section of the RFC document should list any other RFC documents that are relevant to the proposed standard.\\n* **Security Considerations:** The security considerations section of the RFC document should discuss any potential security risks associated with the proposed standard.\\n* **Authors' Addresses:** The authors' addresses section of the RFC document should list the contact information for the authors of the document.\\n\\nFor more information on the format of RFC documents, please refer to the [RFC 2026](https://tools.ietf.org/html/rfc2026) specification.\""
      ]
     },
     "execution_count": 18,
     "metadata": {},
     "output_type": "execute_result"
    }
   ],
   "source": [
    "completion = palm.generate_text(\"\"\"summarize the format of an RFC document\"\"\")\n",
    "completion"
   ]
  },
  {
   "cell_type": "code",
   "execution_count": 19,
   "id": "04e1fb70-882c-44b2-9ad4-1610989d34ad",
   "metadata": {},
   "outputs": [
    {
     "data": {
      "text/markdown": [
       "* **Title:** The title of the RFC document should be short and concise, and should accurately reflect the contents of the document.\n",
       "* **Status:** The status of the RFC document should be indicated at the beginning of the document. The possible statuses are:\n",
       "    * **Proposed Standard:** This is the highest status that an RFC document can achieve. A Proposed Standard RFC document is considered to be a stable and well-tested specification that is ready for widespread deployment.\n",
       "    * **Draft Standard:** A Draft Standard RFC document is a proposed standard that is still under development. Draft Standard RFC documents are not considered to be stable or well-tested, and should not be deployed in production environments.\n",
       "    * **Informational:** An Informational RFC document is a document that provides information about a particular topic, but does not specify a standard. Informational RFC documents are not intended to be implemented, and should not be deployed in production environments.\n",
       "* **Abstract:** The abstract of the RFC document should provide a brief overview of the contents of the document.\n",
       "* **Body:** The body of the RFC document should contain the detailed specifications of the proposed standard. The body should be written in a clear and concise manner, and should be easy to understand.\n",
       "* **References:** The references section of the RFC document should list any other RFC documents that are relevant to the proposed standard.\n",
       "* **Security Considerations:** The security considerations section of the RFC document should discuss any potential security risks associated with the proposed standard.\n",
       "* **Authors' Addresses:** The authors' addresses section of the RFC document should list the contact information for the authors of the document.\n",
       "\n",
       "For more information on the format of RFC documents, please refer to the [RFC 2026](https://tools.ietf.org/html/rfc2026) specification."
      ],
      "text/plain": [
       "<IPython.core.display.Markdown object>"
      ]
     },
     "execution_count": 19,
     "metadata": {},
     "output_type": "execute_result"
    }
   ],
   "source": [
    "Markdown(completion)"
   ]
  },
  {
   "cell_type": "code",
   "execution_count": 20,
   "id": "7df74b97-ecf4-47ee-83c5-f46bec445b08",
   "metadata": {},
   "outputs": [
    {
     "data": {
      "text/plain": [
       "'**ADR Document Format**\\n\\n* **Title:** The title of the ADR document should be clear and concise, and should accurately reflect the content of the document.\\n* **Introduction:** The introduction should provide a brief overview of the ADR process and the purpose of the document.\\n* **Body:** The body of the ADR document should include the following information:\\n    * The parties to the ADR process\\n    * The issues to be resolved through ADR\\n    * The procedures to be used for ADR\\n    * The timeline for ADR\\n    * The costs of ADR\\n* **Conclusion:** The conclusion of the ADR document should include a statement of agreement by the parties to the process, and a plan for implementation of the ADR agreement.\\n\\n**Sample ADR Document**\\n\\n* **Title:** Agreement to Mediate\\n\\n* **Introduction:**\\n\\nThis Agreement to Mediate (the \"Agreement\") is entered into on [DATE] by and between [PARTY A] (the \"Party A\") and [PARTY B] (the \"Party B\").\\n\\n* **Body:**\\n\\n1. The Parties agree to submit the following dispute to mediation:\\n    * [BRIEF DESCRIPTION OF DISPUTE]\\n\\n2. The Parties agree to use the following mediation procedures:\\n    * [LIST OF MEDIATION PROCEDURES]\\n\\n3. The Parties agree to mediate the dispute within [TIME PERIOD] days of the date of this Agreement.\\n\\n4. The Parties agree to share the costs of mediation equally.\\n\\n* **Conclusion:**\\n\\n5. The Parties agree that any settlement reached through mediation will be in writing and signed by both Parties.\\n\\n6. This Agreement may be modified only by a written agreement signed by both Parties.\\n\\n7. This Agreement will be governed by and construed in accordance with the laws of the State of [STATE].\\n\\n8. This Agreement constitutes the entire agreement between the Parties with respect to the subject matter hereof and supersedes all prior or contemporaneous communications, representations, or agreements, whether oral or written.\\n\\n9. This Agreement may be executed in one or more counterparts, each of which will be deemed an original, but all of which together will constitute one and the same instrument.\\n\\n[SIGNATURES OF PARTIES]'"
      ]
     },
     "execution_count": 20,
     "metadata": {},
     "output_type": "execute_result"
    }
   ],
   "source": [
    "completion = palm.generate_text(\"\"\"summarize the format of an ADR document\"\"\")\n",
    "completion"
   ]
  },
  {
   "cell_type": "code",
   "execution_count": 21,
   "id": "a4cddb46-bb0a-4bee-ba7f-42a739a55ade",
   "metadata": {},
   "outputs": [
    {
     "data": {
      "text/markdown": [
       "**ADR Document Format**\n",
       "\n",
       "* **Title:** The title of the ADR document should be clear and concise, and should accurately reflect the content of the document.\n",
       "* **Introduction:** The introduction should provide a brief overview of the ADR process and the purpose of the document.\n",
       "* **Body:** The body of the ADR document should include the following information:\n",
       "    * The parties to the ADR process\n",
       "    * The issues to be resolved through ADR\n",
       "    * The procedures to be used for ADR\n",
       "    * The timeline for ADR\n",
       "    * The costs of ADR\n",
       "* **Conclusion:** The conclusion of the ADR document should include a statement of agreement by the parties to the process, and a plan for implementation of the ADR agreement.\n",
       "\n",
       "**Sample ADR Document**\n",
       "\n",
       "* **Title:** Agreement to Mediate\n",
       "\n",
       "* **Introduction:**\n",
       "\n",
       "This Agreement to Mediate (the \"Agreement\") is entered into on [DATE] by and between [PARTY A] (the \"Party A\") and [PARTY B] (the \"Party B\").\n",
       "\n",
       "* **Body:**\n",
       "\n",
       "1. The Parties agree to submit the following dispute to mediation:\n",
       "    * [BRIEF DESCRIPTION OF DISPUTE]\n",
       "\n",
       "2. The Parties agree to use the following mediation procedures:\n",
       "    * [LIST OF MEDIATION PROCEDURES]\n",
       "\n",
       "3. The Parties agree to mediate the dispute within [TIME PERIOD] days of the date of this Agreement.\n",
       "\n",
       "4. The Parties agree to share the costs of mediation equally.\n",
       "\n",
       "* **Conclusion:**\n",
       "\n",
       "5. The Parties agree that any settlement reached through mediation will be in writing and signed by both Parties.\n",
       "\n",
       "6. This Agreement may be modified only by a written agreement signed by both Parties.\n",
       "\n",
       "7. This Agreement will be governed by and construed in accordance with the laws of the State of [STATE].\n",
       "\n",
       "8. This Agreement constitutes the entire agreement between the Parties with respect to the subject matter hereof and supersedes all prior or contemporaneous communications, representations, or agreements, whether oral or written.\n",
       "\n",
       "9. This Agreement may be executed in one or more counterparts, each of which will be deemed an original, but all of which together will constitute one and the same instrument.\n",
       "\n",
       "[SIGNATURES OF PARTIES]"
      ],
      "text/plain": [
       "<IPython.core.display.Markdown object>"
      ]
     },
     "execution_count": 21,
     "metadata": {},
     "output_type": "execute_result"
    }
   ],
   "source": [
    "Markdown(completion)"
   ]
  },
  {
   "cell_type": "code",
   "execution_count": null,
   "id": "fae38f8d-5186-40a5-9b3f-875a0d581a0b",
   "metadata": {},
   "outputs": [],
   "source": []
  }
 ],
 "metadata": {
  "kernelspec": {
   "display_name": "Python 3 (ipykernel)",
   "language": "python",
   "name": "python3"
  },
  "language_info": {
   "codemirror_mode": {
    "name": "ipython",
    "version": 3
   },
   "file_extension": ".py",
   "mimetype": "text/x-python",
   "name": "python",
   "nbconvert_exporter": "python",
   "pygments_lexer": "ipython3",
   "version": "3.11.6"
  }
 },
 "nbformat": 4,
 "nbformat_minor": 5
}
