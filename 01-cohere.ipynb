{
 "cells": [
  {
   "cell_type": "markdown",
   "id": "87b035e8-60e1-42f1-8e49-54ca2262907d",
   "metadata": {},
   "source": [
    "## Document Reviewer with Cohere\n",
    "\n",
    "### Goals\n",
    "We want to explore how Cohere perform as a document reviewer. Given a technical documentation, can Cohere generate an improved version of it better than other LLMs?\n",
    "\n",
    "### Techniques\n",
    "\n",
    "\n",
    "- all-in-one prompt: we first start by putting all the desired outcome in a single prompt\n",
    "- multiple prompts by roles: we feed the document into individual prompts that does only one thing. The completion is then fed into another prompt until it goes through all the chain\n",
    "- decomposition: we ask the LLM to decompose the document first, and then convert the documents content to questions instead. Then we ask the LLM to answer the questions and then reconstruct the document."
   ]
  },
  {
   "cell_type": "markdown",
   "id": "32415416-a344-4ad2-956d-7d45b17fcb93",
   "metadata": {},
   "source": [
    "### Loading\n",
    "\n",
    "We first load our sample document to improve."
   ]
  },
  {
   "cell_type": "code",
   "execution_count": 2,
   "id": "08107821-ec49-4da4-9eb0-287c6a5ef874",
   "metadata": {},
   "outputs": [],
   "source": [
    "document = \"\"\"\n",
    "# Use Constant\n",
    "\n",
    "\n",
    "## Avoid const*.go\n",
    "\n",
    "Avoid naming files with any variation of `const.go` to store constants.\n",
    "\n",
    "Each constant serves a purpose, and they probably should belong to domain layer.\n",
    "\n",
    "\n",
    "## Don't uppercase constant\n",
    "\n",
    "\n",
    "```go\n",
    "// Bad\n",
    "const CODE_NOT_FOUND = 404\n",
    "\n",
    "\n",
    "// Good\n",
    "const CodeNotFound = 404\n",
    "```\n",
    "\n",
    "## Prefer constructor over constant\n",
    "\n",
    "\n",
    "There are many times where constructor proves to be more useful than plain constant.\n",
    "\n",
    "For example, you may have a constant to declare the expiry time of a campaign:\n",
    "\n",
    "\n",
    "```go\n",
    "var CampaignExpiredAt = time.Date(2023, time.January, 1, 0, 0, 0, 0, time.Local)\n",
    "```\n",
    "\n",
    "However, it doesn't serve much purpose there. Instead, add an accompanying function that utilizes it.\n",
    "\n",
    "```go\n",
    "package main\n",
    "\n",
    "import (\n",
    "\t\"fmt\"\n",
    "\t\"time\"\n",
    ")\n",
    "\n",
    "var CampaignExpiredAt = time.Date(2023, time.January, 1, 0, 0, 0, 0, time.Local)\n",
    "\n",
    "func CampaignActive(now time.Time) bool {\n",
    "\treturn now.Before(CampaignExpiredAt)\n",
    "}\n",
    "\n",
    "func main() {\n",
    "\tnow := time.Now()\n",
    "\tfmt.Println(now)\n",
    "\tfmt.Println(CampaignActive(now))\n",
    "}\n",
    "```\n",
    "\n",
    "\n",
    "Other examples includes\n",
    "- base url\n",
    "- expiry duration\n",
    "- cache prefix key\n",
    "\"\"\""
   ]
  },
  {
   "cell_type": "code",
   "execution_count": 3,
   "id": "74d9868f-9180-49f7-996a-6b35b8b5796f",
   "metadata": {},
   "outputs": [],
   "source": [
    "from IPython.display import Markdown"
   ]
  },
  {
   "cell_type": "code",
   "execution_count": 7,
   "id": "a0481e52-3168-4651-a1e2-ad895911d06c",
   "metadata": {},
   "outputs": [
    {
     "data": {
      "text/markdown": [
       "\n",
       "# Use Constant\n",
       "\n",
       "\n",
       "## Avoid const*.go\n",
       "\n",
       "Avoid naming files with any variation of `const.go` to store constants.\n",
       "\n",
       "Each constant serves a purpose, and they probably should belong to domain layer.\n",
       "\n",
       "\n",
       "## Don't uppercase constant\n",
       "\n",
       "\n",
       "```go\n",
       "// Bad\n",
       "const CODE_NOT_FOUND = 404\n",
       "\n",
       "\n",
       "// Good\n",
       "const CodeNotFound = 404\n",
       "```\n",
       "\n",
       "## Prefer constructor over constant\n",
       "\n",
       "\n",
       "There are many times where constructor proves to be more useful than plain constant.\n",
       "\n",
       "For example, you may have a constant to declare the expiry time of a campaign:\n",
       "\n",
       "\n",
       "```go\n",
       "var CampaignExpiredAt = time.Date(2023, time.January, 1, 0, 0, 0, 0, time.Local)\n",
       "```\n",
       "\n",
       "However, it doesn't serve much purpose there. Instead, add an accompanying function that utilizes it.\n",
       "\n",
       "```go\n",
       "package main\n",
       "\n",
       "import (\n",
       "\t\"fmt\"\n",
       "\t\"time\"\n",
       ")\n",
       "\n",
       "var CampaignExpiredAt = time.Date(2023, time.January, 1, 0, 0, 0, 0, time.Local)\n",
       "\n",
       "func CampaignActive(now time.Time) bool {\n",
       "\treturn now.Before(CampaignExpiredAt)\n",
       "}\n",
       "\n",
       "func main() {\n",
       "\tnow := time.Now()\n",
       "\tfmt.Println(now)\n",
       "\tfmt.Println(CampaignActive(now))\n",
       "}\n",
       "```\n",
       "\n",
       "\n",
       "Other examples includes\n",
       "- base url\n",
       "- expiry duration\n",
       "- cache prefix key\n"
      ],
      "text/plain": [
       "<IPython.core.display.Markdown object>"
      ]
     },
     "execution_count": 7,
     "metadata": {},
     "output_type": "execute_result"
    }
   ],
   "source": [
    "Markdown(document)"
   ]
  },
  {
   "cell_type": "code",
   "execution_count": 8,
   "id": "b0bdea45-9b9b-4c34-b3a8-72c97340244a",
   "metadata": {},
   "outputs": [],
   "source": [
    "import app.cohere as cohere"
   ]
  },
  {
   "cell_type": "code",
   "execution_count": 9,
   "id": "c86ecc23-27f1-42de-9c9c-88346bf40c6b",
   "metadata": {},
   "outputs": [],
   "source": [
    "prompt = \"\"\"\n",
    "You are an experienced technical writer.\n",
    "Given a technical documentation, improve the content by elaborating on the key insights.\n",
    "\n",
    "Document:\n",
    "{document}\n",
    "\"\"\""
   ]
  },
  {
   "cell_type": "code",
   "execution_count": 10,
   "id": "f9e79334-afa9-440b-bb10-5979bc0f11ef",
   "metadata": {},
   "outputs": [
    {
     "data": {
      "text/plain": [
       "' Technical writing aims to provide clear and effective documentation for developers and other technical users. Your initial documentation is a good starting point, but there are ways to improve it to make it even more comprehensive and useful. Here\\'s an enhanced version of your documentation with more detailed explanations and examples:\\n\\n# Effective Use of Constants in Go\\n\\nConstants are an integral part of many programming languages, including Go. They provide a way to define fixed values that should not be changed during program execution. Understanding when and how to use constants effectively can improve code readability and maintainability.\\n\\n## Avoid Naming Files `const.go`\\n\\nIt\\'s worth emphasizing the importance of avoiding filename variations like `const.go` for storing constants. Filenames should provide meaningful information about the content within, and using a generic name like `const.go` does not offer any insight into the specific constants defined within the file.\\n\\n## Don\\'t Use Uppercase for Constants\\n\\nWhile uppercase letters are commonly used to define constants in many languages, including Go, it\\'s good practice to avoid using uppercase for constant names entirely. This is because uppercase letters can make your code less readable and may not align with the style conventions of your project or team.\\n\\n### Example\\n\\nHere\\'s an example that demonstrates the difference between using uppercase and lowercase for constant names:\\n\\n**Bad Practice - Using uppercase:**\\n```go\\nconst CODE_NOT_FOUND = 404\\n```\\n\\n**Good Practice - Using lowercase:**\\n```go\\nconst CodeNotFound = 404\\n```\\n\\n## Prefer Constructors over Constants for Expiry Time\\n\\nYour documentation rightly suggests that using a constructor function can be more beneficial than a constant for scenarios like declaring campaign expiry time. Constructors can encapsulate logic and provide a more meaningful way to work with values.\\n\\n### Example: Campaign Expiry Constructor\\n\\n```go\\npackage main\\n\\nimport (\\n\\t\"time\"\\n)\\n\\nfunc NewCampaignExpiry(year int, month time.Month, day int) time.Time {\\n\\treturn time.Date(year, month, day, 0, 0, 0, 0, time.Local)\\n}\\n\\nfunc main() {\\n\\texpiryTime := NewCampaignExpiry(2023, time.January, 1)\\n\\tfmt.Println(expiryTime)\\n}\\n```\\n\\nIn this example, the `NewCampaignExpiry` constructor takes parameters for year, month, and day, and it returns a `time.Time` value representing the campaign expiry date. This approach provides more context and allows for easier modification in the future.\\n\\n## Consider Constructors for Other Use Cases\\n\\nYour documentation mentions other examples like base URL, expiry duration, and cache prefix key, where constructors could be more appropriate. Here\\'s how constructors could be applied to these examples:\\n\\n**Base URL:**\\nInstead of declaring a constant like `const BaseURL = \"https://example.com\"`, you can use a constructor to create URLs based on different parameters.\\n\\n**Expiry Duration:**\\nIf you have a constant like `const ExpiryDuration = time.Hour`, it might not be clear what this constant represents. Instead, you could use a constructor to create a specific expiry duration based on required parameters.\\n\\n**Cache Prefix Key:**\\nInstead of a constant like `const CachePrefix = \"CACHE_\"`, you could define a constructor that generates a cache key based on input parameters.\\n\\n## Example: Cache Prefix Key Constructor\\n\\n```go\\npackage main\\n\\nimport (\\n\\t\"fmt\"\\n)\\n\\nfunc NewCacheKey(userID int, username string) string {\\n\\treturn fmt.Sprintf(\"CACHE_%d_%s\", userID, username)\\n}\\n\\nfunc main() {\\n\\tcacheKey := NewCacheKey(123, \"john_doe\")\\n\\tfmt.Println(cacheKey)\\n}\\n```\\n\\nIn this example, the `NewCacheKey` constructor takes a user ID and a username as parameters and generates a cache key. This approach makes your code more flexible and adaptable to changes.\\n\\nRemember, these suggestions are based on the assumption that your documentation aims to provide guidance on effective usage of constants in Go. If your documentation has a different focus, the content might be tailored accordingly. \\n\\nWould you like me to further elaborate on any of the examples provided? '"
      ]
     },
     "execution_count": 10,
     "metadata": {},
     "output_type": "execute_result"
    }
   ],
   "source": [
    "completion = cohere.generate_text(prompt.format(document=document))\n",
    "completion"
   ]
  },
  {
   "cell_type": "code",
   "execution_count": 11,
   "id": "c50bd785-1231-4e19-90ec-038578138289",
   "metadata": {},
   "outputs": [
    {
     "data": {
      "text/markdown": [
       " Technical writing aims to provide clear and effective documentation for developers and other technical users. Your initial documentation is a good starting point, but there are ways to improve it to make it even more comprehensive and useful. Here's an enhanced version of your documentation with more detailed explanations and examples:\n",
       "\n",
       "# Effective Use of Constants in Go\n",
       "\n",
       "Constants are an integral part of many programming languages, including Go. They provide a way to define fixed values that should not be changed during program execution. Understanding when and how to use constants effectively can improve code readability and maintainability.\n",
       "\n",
       "## Avoid Naming Files `const.go`\n",
       "\n",
       "It's worth emphasizing the importance of avoiding filename variations like `const.go` for storing constants. Filenames should provide meaningful information about the content within, and using a generic name like `const.go` does not offer any insight into the specific constants defined within the file.\n",
       "\n",
       "## Don't Use Uppercase for Constants\n",
       "\n",
       "While uppercase letters are commonly used to define constants in many languages, including Go, it's good practice to avoid using uppercase for constant names entirely. This is because uppercase letters can make your code less readable and may not align with the style conventions of your project or team.\n",
       "\n",
       "### Example\n",
       "\n",
       "Here's an example that demonstrates the difference between using uppercase and lowercase for constant names:\n",
       "\n",
       "**Bad Practice - Using uppercase:**\n",
       "```go\n",
       "const CODE_NOT_FOUND = 404\n",
       "```\n",
       "\n",
       "**Good Practice - Using lowercase:**\n",
       "```go\n",
       "const CodeNotFound = 404\n",
       "```\n",
       "\n",
       "## Prefer Constructors over Constants for Expiry Time\n",
       "\n",
       "Your documentation rightly suggests that using a constructor function can be more beneficial than a constant for scenarios like declaring campaign expiry time. Constructors can encapsulate logic and provide a more meaningful way to work with values.\n",
       "\n",
       "### Example: Campaign Expiry Constructor\n",
       "\n",
       "```go\n",
       "package main\n",
       "\n",
       "import (\n",
       "\t\"time\"\n",
       ")\n",
       "\n",
       "func NewCampaignExpiry(year int, month time.Month, day int) time.Time {\n",
       "\treturn time.Date(year, month, day, 0, 0, 0, 0, time.Local)\n",
       "}\n",
       "\n",
       "func main() {\n",
       "\texpiryTime := NewCampaignExpiry(2023, time.January, 1)\n",
       "\tfmt.Println(expiryTime)\n",
       "}\n",
       "```\n",
       "\n",
       "In this example, the `NewCampaignExpiry` constructor takes parameters for year, month, and day, and it returns a `time.Time` value representing the campaign expiry date. This approach provides more context and allows for easier modification in the future.\n",
       "\n",
       "## Consider Constructors for Other Use Cases\n",
       "\n",
       "Your documentation mentions other examples like base URL, expiry duration, and cache prefix key, where constructors could be more appropriate. Here's how constructors could be applied to these examples:\n",
       "\n",
       "**Base URL:**\n",
       "Instead of declaring a constant like `const BaseURL = \"https://example.com\"`, you can use a constructor to create URLs based on different parameters.\n",
       "\n",
       "**Expiry Duration:**\n",
       "If you have a constant like `const ExpiryDuration = time.Hour`, it might not be clear what this constant represents. Instead, you could use a constructor to create a specific expiry duration based on required parameters.\n",
       "\n",
       "**Cache Prefix Key:**\n",
       "Instead of a constant like `const CachePrefix = \"CACHE_\"`, you could define a constructor that generates a cache key based on input parameters.\n",
       "\n",
       "## Example: Cache Prefix Key Constructor\n",
       "\n",
       "```go\n",
       "package main\n",
       "\n",
       "import (\n",
       "\t\"fmt\"\n",
       ")\n",
       "\n",
       "func NewCacheKey(userID int, username string) string {\n",
       "\treturn fmt.Sprintf(\"CACHE_%d_%s\", userID, username)\n",
       "}\n",
       "\n",
       "func main() {\n",
       "\tcacheKey := NewCacheKey(123, \"john_doe\")\n",
       "\tfmt.Println(cacheKey)\n",
       "}\n",
       "```\n",
       "\n",
       "In this example, the `NewCacheKey` constructor takes a user ID and a username as parameters and generates a cache key. This approach makes your code more flexible and adaptable to changes.\n",
       "\n",
       "Remember, these suggestions are based on the assumption that your documentation aims to provide guidance on effective usage of constants in Go. If your documentation has a different focus, the content might be tailored accordingly. \n",
       "\n",
       "Would you like me to further elaborate on any of the examples provided? "
      ],
      "text/plain": [
       "<IPython.core.display.Markdown object>"
      ]
     },
     "execution_count": 11,
     "metadata": {},
     "output_type": "execute_result"
    }
   ],
   "source": [
    "Markdown(completion)"
   ]
  },
  {
   "cell_type": "code",
   "execution_count": 12,
   "id": "80eecdb9-1906-4587-a729-873e8cf6e347",
   "metadata": {},
   "outputs": [
    {
     "data": {
      "text/plain": [
       "' Here is the improved version of your document with more detailed explanations of the key insights:\\n\\n# Understanding When to Use Constants in Go\\n\\nWhen writing code in Go, it is important to recognize when to use constants and when to use other tools, such as constructors. While constants can be useful in certain situations, there are other scenarios where using a constructor may be more beneficial.\\n\\n## Avoid Naming Files `const.go`\\n\\nIt is recommended to avoid naming files in the format of `const.go` when storing constants in Go. Constants should belong to the domain layer of your code, indicating they are fundamental to the application and often used across different packages.\\n\\n## Don\\'t Use Uppercase for Constants\\n\\nIt is a common convention in Go to use uppercase letters for constants. While this is allowed, it is not recommended because it can make your code less readable and harder to understand, especially when the constant names are used extensively. \\n\\nInstead, use lowercase names for your constants, just like any other variable name.\\n\\n## Prefer Constructor over Constant for Expiry Time\\n\\nConsider a situation where you want to declare the expiry time of a campaign. You could declare a constant for this purpose:\\n\\n```go\\nvar CampaignExpiredAt = time.Date(2023, time.January, 1, 0, 0, 0, 0, time.Local)\\n```\\n\\nHowever, simply declaring a constant does not provide much functionality. In this case, it would be more useful to create a function that checks if the campaign has expired, using the constant as an argument.\\n\\n```go\\npackage main\\n\\nimport (\\n\\t\"fmt\"\\n\\t\"time\"\\n)\\n\\nvar CampaignExpiredAt = time.Date(2023, time.January, 1, 0, 0, 0, 0, time.Local)\\n\\nfunc CampaignActive(expiryTime time.Time) bool {\\n\\treturn expiryTime.Before(CampaignExpiredAt)\\n}\\n\\nfunc main() {\\n\\tnow := time.Now()\\n\\tfmt.Println(now)\\n\\tfmt.Println(CampaignActive(now))\\n}\\n```\\n\\nThis way, the constant is used as an argument for the `CampaignActive` function, which provides more utility and understanding to other developers reading your code.\\n\\nOther examples where constants could be used include:\\n- Base URL: It can be helpful to define a constant for the base URL of your application to prevent hard-coding throughout your code. \\n\\nWhile constants are a valuable tool in certain situations, it is important to recognize when they are not the best solution. In these examples, using a constant instead of a constructor or variable could lead to less readable and less functional code. \\n\\nRemember, the key to good coding practices is to maintain readability and functionality, and sometimes this means using a tool other than constants, even if they are a valid option. \\n\\nWould you like me to help you with anything else regarding technical writing or Go code? '"
      ]
     },
     "execution_count": 12,
     "metadata": {},
     "output_type": "execute_result"
    }
   ],
   "source": [
    "prompt = \"\"\"\n",
    "You are an experienced technical writer.\n",
    "Given a technical documentation, improve the content by elaborating on the key insights.\n",
    "Keep the code samples unchanged. Return only the improved document.\n",
    "\n",
    "Document:\n",
    "{document}\n",
    "\"\"\"\n",
    "\n",
    "completion = cohere.generate_text(prompt.format(document=document))\n",
    "completion"
   ]
  },
  {
   "cell_type": "code",
   "execution_count": 13,
   "id": "6fbc745d-43ee-4eca-9ef1-191f5b19bb4b",
   "metadata": {},
   "outputs": [
    {
     "data": {
      "text/markdown": [
       " Here is the improved version of your document with more detailed explanations of the key insights:\n",
       "\n",
       "# Understanding When to Use Constants in Go\n",
       "\n",
       "When writing code in Go, it is important to recognize when to use constants and when to use other tools, such as constructors. While constants can be useful in certain situations, there are other scenarios where using a constructor may be more beneficial.\n",
       "\n",
       "## Avoid Naming Files `const.go`\n",
       "\n",
       "It is recommended to avoid naming files in the format of `const.go` when storing constants in Go. Constants should belong to the domain layer of your code, indicating they are fundamental to the application and often used across different packages.\n",
       "\n",
       "## Don't Use Uppercase for Constants\n",
       "\n",
       "It is a common convention in Go to use uppercase letters for constants. While this is allowed, it is not recommended because it can make your code less readable and harder to understand, especially when the constant names are used extensively. \n",
       "\n",
       "Instead, use lowercase names for your constants, just like any other variable name.\n",
       "\n",
       "## Prefer Constructor over Constant for Expiry Time\n",
       "\n",
       "Consider a situation where you want to declare the expiry time of a campaign. You could declare a constant for this purpose:\n",
       "\n",
       "```go\n",
       "var CampaignExpiredAt = time.Date(2023, time.January, 1, 0, 0, 0, 0, time.Local)\n",
       "```\n",
       "\n",
       "However, simply declaring a constant does not provide much functionality. In this case, it would be more useful to create a function that checks if the campaign has expired, using the constant as an argument.\n",
       "\n",
       "```go\n",
       "package main\n",
       "\n",
       "import (\n",
       "\t\"fmt\"\n",
       "\t\"time\"\n",
       ")\n",
       "\n",
       "var CampaignExpiredAt = time.Date(2023, time.January, 1, 0, 0, 0, 0, time.Local)\n",
       "\n",
       "func CampaignActive(expiryTime time.Time) bool {\n",
       "\treturn expiryTime.Before(CampaignExpiredAt)\n",
       "}\n",
       "\n",
       "func main() {\n",
       "\tnow := time.Now()\n",
       "\tfmt.Println(now)\n",
       "\tfmt.Println(CampaignActive(now))\n",
       "}\n",
       "```\n",
       "\n",
       "This way, the constant is used as an argument for the `CampaignActive` function, which provides more utility and understanding to other developers reading your code.\n",
       "\n",
       "Other examples where constants could be used include:\n",
       "- Base URL: It can be helpful to define a constant for the base URL of your application to prevent hard-coding throughout your code. \n",
       "\n",
       "While constants are a valuable tool in certain situations, it is important to recognize when they are not the best solution. In these examples, using a constant instead of a constructor or variable could lead to less readable and less functional code. \n",
       "\n",
       "Remember, the key to good coding practices is to maintain readability and functionality, and sometimes this means using a tool other than constants, even if they are a valid option. \n",
       "\n",
       "Would you like me to help you with anything else regarding technical writing or Go code? "
      ],
      "text/plain": [
       "<IPython.core.display.Markdown object>"
      ]
     },
     "execution_count": 13,
     "metadata": {},
     "output_type": "execute_result"
    }
   ],
   "source": [
    "Markdown(completion)"
   ]
  },
  {
   "cell_type": "code",
   "execution_count": 22,
   "id": "a5299a8d-12c2-4677-bb5a-f79b04bcfbfc",
   "metadata": {},
   "outputs": [
    {
     "data": {
      "text/plain": [
       "\" Based on the document, it seems the key topic is on when and how to use constants in Go programming, and when it might be better to use a constructor or variable instead. \\n\\nHere are some points that could be added to the document to improve its coverage on the topic:\\n\\n1. **Importance of constants**: Explain why constants are useful in programming and how they differ from variables. For example, you could mention that constants provide a way to define a value that shouldn't be changed during program execution, which can make code more readable and maintainable.\\n\\n2. **When to use constants**: Provide more context on when it would be appropriate to use a constant instead of a variable. For example, you could mention that constants are useful for values that are set once and won't change, like status codes, magic numbers, or dimension constants.\\n\\n3. **Importance of consistency**: Explain why it's important to be consistent with your use of constants, including naming conventions and placement. Consistency can improve code readability and maintainability.\\n\\n4. **Places to use constants in Go**: Provide more details on common places to use constants in Go code, besides the ones already mentioned like base URL, expiry duration and cache prefix key. For example, you could mention using constants for configuration values, or defining codes for different application states.\\n\\n5. **When to avoid constants**: Explain scenarios where using a constant could be detrimental to the code, and when it might be better to use a variable or a constructor. For example, you could mention that using a constant for a value that may need to change during runtime could lead to code that's harder to maintain.\\n\\nHere are some critical questions about the topic that the document doesn't answer:\\n\\n1. **When is it appropriate to use a constant instead of a variable in Go, from a technical perspective?**\\n2. **How does the performance of a constant vs a variable compare in Go, and how might this affect the programmer's decision on when to use each?**\\n3. **What are some advanced use cases for constants in Go that demonstrate their flexibility?**\\n\\nAnd here are some attempts to answer these questions:\\n\\n1. **When is it appropriate to use a constant instead of a variable in Go, from a technical perspective?**\\n   Constants in Go are immutable values that are set once and cannot be changed during the execution of the program. This makes them ideal for values that are known at compile time and remain constant throughout the program's execution. \\n\\nVariables, on the other hand, are dynamic entities that can be assigned new values at runtime. They are suitable for storing values that may change over the course of the program. \\n\\nTherefore, it is appropriate to use a constant when you have a value that is set once and will not change, and a variable when you have a value that may change over time. \\n\\nFrom a technical perspective, constants can improve code performance because the compiler can optimize constant values that are known at compile time. \\n\\n2. **How does the performance of a constant vs a variable compare in Go, and how might this affect the programmer's decision on when to use each?**\\n   In general, the performance difference between using constants and variables in Go is minimal and unlikely to significantly impact your decision. \\n\\nThe Go compiler can potentially optimize constant expressions by performing constant folding, which can lead to some performance improvements. However, this is not guaranteed and highly dependent on the specific usage and compiler optimizations.\\n\\nFor most cases, it would be more important to consider other factors like code readability, maintainability, and flexibility when deciding between using constants or variables. \\n\\n3. **What are some advanced use cases for constants in Go that demonstrate their flexibility?**\\n   Constants in Go can be used in various advanced scenarios. Here are a few examples:\\n- **Constant Masks**: You can create bit masks using constants in Go, which can be useful for performing bitwise operations or extracting specific bits from an integer.\\n\\n- **Constant Variables**: Although Go does not have constant variables in the same way that some other languages do, you can use variables initialized with constants to achieve a similar effect. This can be helpful when you need to perform operations on constant values but still want to maintain the flexibility of a variable.\\n\\n- **Constant Functions**: You can define functions with constant values as parameters or return values, which can be useful for encapsulating logic that operates on specific constant values.\\n\\nOverall, the flexibility of constants in Go allows them to be used in various advanced scenarios beyond simple value assignments. \\n\\n4. **When is it better to use a constructor or variable instead of a constant?**\\n   There are times when using a constructor or variable may be more appropriate than using a constant. Here are a few scenarios:\\n\\n- **Dynamic Values**: If the value you need to work with can change over time or may have different values based on specific conditions, using a variable would provide more flexibility. A constructor can be used to initialize the variable with different values based on certain conditions or user input.\\n\\n- **Mutable State**: If you need to maintain a mutable state that can be updated over time, using a variable would allow you to modify its value without redefining the constant. A constructor could be used to set the initial state of the variable.\\n\\n- **Configuration at Runtime**: If your application requires dynamic configuration changes at runtime, using variables and constructors would provide the flexibility to adjust these settings without the need to redefine constants. \\n\\nRemember that these are general guidelines, and the specific choice between constants, constructors, and variables will depend on the context and requirements of your code. \\n\\nI hope these additional points and answers are helpful in improving the document and providing a more comprehensive understanding of the topic. \""
      ]
     },
     "execution_count": 22,
     "metadata": {},
     "output_type": "execute_result"
    }
   ],
   "source": [
    "prompt = \"\"\"\n",
    "You are provided a technical document. Think step by step.\n",
    "1. extract the key topic of this document. \n",
    "2. suggest points about this topic that is not already present in the document\n",
    "3. ask critical and relevant questions about the topics\n",
    "4. attempt to answer the questions about the topic, providing clear and simple explanation.\n",
    "\n",
    "Summarize all of it into an improved version of the document. Return only the improved version in Markdown.\n",
    "\n",
    "Document:\n",
    "----------------------------------------\n",
    "{document}\n",
    "----------------------------------------\n",
    "\"\"\"\n",
    "\n",
    "completion = cohere.generate_text(prompt.format(document=document))\n",
    "completion"
   ]
  },
  {
   "cell_type": "code",
   "execution_count": 23,
   "id": "7cdce67e-b153-497b-9c13-83191e782637",
   "metadata": {},
   "outputs": [
    {
     "data": {
      "text/markdown": [
       " Based on the document, it seems the key topic is on when and how to use constants in Go programming, and when it might be better to use a constructor or variable instead. \n",
       "\n",
       "Here are some points that could be added to the document to improve its coverage on the topic:\n",
       "\n",
       "1. **Importance of constants**: Explain why constants are useful in programming and how they differ from variables. For example, you could mention that constants provide a way to define a value that shouldn't be changed during program execution, which can make code more readable and maintainable.\n",
       "\n",
       "2. **When to use constants**: Provide more context on when it would be appropriate to use a constant instead of a variable. For example, you could mention that constants are useful for values that are set once and won't change, like status codes, magic numbers, or dimension constants.\n",
       "\n",
       "3. **Importance of consistency**: Explain why it's important to be consistent with your use of constants, including naming conventions and placement. Consistency can improve code readability and maintainability.\n",
       "\n",
       "4. **Places to use constants in Go**: Provide more details on common places to use constants in Go code, besides the ones already mentioned like base URL, expiry duration and cache prefix key. For example, you could mention using constants for configuration values, or defining codes for different application states.\n",
       "\n",
       "5. **When to avoid constants**: Explain scenarios where using a constant could be detrimental to the code, and when it might be better to use a variable or a constructor. For example, you could mention that using a constant for a value that may need to change during runtime could lead to code that's harder to maintain.\n",
       "\n",
       "Here are some critical questions about the topic that the document doesn't answer:\n",
       "\n",
       "1. **When is it appropriate to use a constant instead of a variable in Go, from a technical perspective?**\n",
       "2. **How does the performance of a constant vs a variable compare in Go, and how might this affect the programmer's decision on when to use each?**\n",
       "3. **What are some advanced use cases for constants in Go that demonstrate their flexibility?**\n",
       "\n",
       "And here are some attempts to answer these questions:\n",
       "\n",
       "1. **When is it appropriate to use a constant instead of a variable in Go, from a technical perspective?**\n",
       "   Constants in Go are immutable values that are set once and cannot be changed during the execution of the program. This makes them ideal for values that are known at compile time and remain constant throughout the program's execution. \n",
       "\n",
       "Variables, on the other hand, are dynamic entities that can be assigned new values at runtime. They are suitable for storing values that may change over the course of the program. \n",
       "\n",
       "Therefore, it is appropriate to use a constant when you have a value that is set once and will not change, and a variable when you have a value that may change over time. \n",
       "\n",
       "From a technical perspective, constants can improve code performance because the compiler can optimize constant values that are known at compile time. \n",
       "\n",
       "2. **How does the performance of a constant vs a variable compare in Go, and how might this affect the programmer's decision on when to use each?**\n",
       "   In general, the performance difference between using constants and variables in Go is minimal and unlikely to significantly impact your decision. \n",
       "\n",
       "The Go compiler can potentially optimize constant expressions by performing constant folding, which can lead to some performance improvements. However, this is not guaranteed and highly dependent on the specific usage and compiler optimizations.\n",
       "\n",
       "For most cases, it would be more important to consider other factors like code readability, maintainability, and flexibility when deciding between using constants or variables. \n",
       "\n",
       "3. **What are some advanced use cases for constants in Go that demonstrate their flexibility?**\n",
       "   Constants in Go can be used in various advanced scenarios. Here are a few examples:\n",
       "- **Constant Masks**: You can create bit masks using constants in Go, which can be useful for performing bitwise operations or extracting specific bits from an integer.\n",
       "\n",
       "- **Constant Variables**: Although Go does not have constant variables in the same way that some other languages do, you can use variables initialized with constants to achieve a similar effect. This can be helpful when you need to perform operations on constant values but still want to maintain the flexibility of a variable.\n",
       "\n",
       "- **Constant Functions**: You can define functions with constant values as parameters or return values, which can be useful for encapsulating logic that operates on specific constant values.\n",
       "\n",
       "Overall, the flexibility of constants in Go allows them to be used in various advanced scenarios beyond simple value assignments. \n",
       "\n",
       "4. **When is it better to use a constructor or variable instead of a constant?**\n",
       "   There are times when using a constructor or variable may be more appropriate than using a constant. Here are a few scenarios:\n",
       "\n",
       "- **Dynamic Values**: If the value you need to work with can change over time or may have different values based on specific conditions, using a variable would provide more flexibility. A constructor can be used to initialize the variable with different values based on certain conditions or user input.\n",
       "\n",
       "- **Mutable State**: If you need to maintain a mutable state that can be updated over time, using a variable would allow you to modify its value without redefining the constant. A constructor could be used to set the initial state of the variable.\n",
       "\n",
       "- **Configuration at Runtime**: If your application requires dynamic configuration changes at runtime, using variables and constructors would provide the flexibility to adjust these settings without the need to redefine constants. \n",
       "\n",
       "Remember that these are general guidelines, and the specific choice between constants, constructors, and variables will depend on the context and requirements of your code. \n",
       "\n",
       "I hope these additional points and answers are helpful in improving the document and providing a more comprehensive understanding of the topic. "
      ],
      "text/plain": [
       "<IPython.core.display.Markdown object>"
      ]
     },
     "execution_count": 23,
     "metadata": {},
     "output_type": "execute_result"
    }
   ],
   "source": [
    "Markdown(completion)"
   ]
  },
  {
   "cell_type": "code",
   "execution_count": 25,
   "id": "a544bbf1-ca6c-4da9-90df-c5b5312608f2",
   "metadata": {},
   "outputs": [
    {
     "data": {
      "text/plain": [
       "' RFC: Guidelines for the Use of Constants in Go\\n\\nDear Go Developers,\\n\\nAs programmers, we are constantly looking for ways to write clean, efficient, and maintainable code. One fundamental concept that can help us achieve this is the appropriate use of constants. In this RFC, we will discuss the importance of constants in Go programming, provide guidelines on when and where to use them, and explore advanced use cases that demonstrate their flexibility.\\n\\n1. Importance of Constants\\n   Constants are an essential tool in programming languages like Go, providing a way to define immutable values that should not be changed during the execution of a program. Here are some key reasons why constants are important:\\n   - Readability: Constants improve code readability by providing meaningful names to values that are used throughout the code. It\\'s easier to understand the intent of the code when variables are labeled with self-explanatory constants rather than arbitrary values.\\n\\n   - Maintainability: By using constants, you can update the value in one place if it ever needs to be changed. This reduces the chance of introducing errors in multiple places throughout the code. It also helps in debugging, as you can easily analyze the impact of changes by looking at the constant\\'s usage.\\n\\n   - Optimization: In some cases, compilers can optimize code when constants are used instead of variables. Since constants have fixed values, the compiler can perform certain optimizations, such as constant folding, which may result in improved execution speed.\\n\\n2. When to Use Constants\\n   Constants should be used when you have values that are known at compile time and remain constant throughout the execution of the program. Here are some specific scenarios where using constants is recommended:\\n   - Status Codes: Defining status codes or error codes as constants makes it clear to readers what kind of response a function might return.\\n\\n   - Magic Numbers: Using constants instead of hard-coding numeric values (often referred to as \"magic numbers\") makes the code more readable and maintainable.\\n\\n   - Dimension Constants: Constants can be used to define dimensions or sizes, such as the number of items in a list or the dimensions of a grid.\\n\\n3. Consistency\\n   It is important to adhere to consistent naming conventions and placement of constants throughout your code. This improves code readability and maintainability for yourself and other developers working on the project.\\n\\n4. Places to Use Constants in Go\\n   Besides the examples mentioned earlier, there are several other common places to use constants in Go:\\n   - Configuration Values: Constants can be used to define configuration settings for an application, making it easier to adjust settings without modifying code.\\n\\n   - Base URLs: Defining constants for base URLs can make it easier to construct URLs for different endpoints in your application.\\n\\n   - Time Related Constants: Constants can be used to define durations or timeouts, such as cache expiration durations or intervals between task executions.\\n\\n5. When to Avoid Constants\\n   While constants are useful, there are situations where using them might lead to code that is harder to maintain or less flexible. Here are scenarios where using a constant might not be the best choice:\\n   - Dynamic Values: If a value may need to change during runtime based on user input or other dynamic factors, a variable would provide more flexibility.\\n\\n   - Mutable State: If you need to maintain a mutable state that changes over time, using a variable would be more appropriate. \\n\\nCritical Questions Answered\\n\\n1. When is it appropriate to use a constant instead of a variable in Go, from a technical perspective?\\n   Constants in Go are immutable values that are set once and remain constant throughout the program\\'s execution. They are suitable for values that are known at compile time and don\\'t change. Variables, on the other hand, are dynamic and can be assigned new values at runtime, making them suitable for values that may change over time. \\n\\n2. How does the performance of a constant vs a variable compare in Go, and how might this affect the programmer\\'s decision on when to use each?\\n   The performance difference between constants and variables in Go is minimal. While the Go compiler can potentially optimize constant expressions through constant folding, this optimization is not guaranteed and may vary depending on specific usage and compiler optimizations. For most cases, it\\'s more important to consider factors like code readability and maintainability when deciding between constants and variables. \\n\\n3. What are some advanced use cases for constants in Go that demonstrate their flexibility?\\n   Constants in Go can be used in various advanced scenarios. Some examples include:\\n- Constant Masks: Constants can be used to create bit masks, which are useful for performing bitwise operations or extracting specific bits from an integer.\\n\\n- Constant Variables: Although Go does not have constant variables like some other languages, you can use variables initialized with constants to achieve a similar effect. This can be helpful when you need to perform operations on constant values while still maintaining flexibility.\\n\\n- Constant Functions: You can define functions with constant values as parameters or return values, useful for encapsulating logic that operates on specific constant values.\\n\\n4. When is it better to use a constructor or variable instead of a constant?\\n   There are scenarios where using a constructor or variable may provide more flexibility than a constant. Some examples include:\\n- Dynamic Values: If the value you are working with can change over time or may have different values based on specific conditions, using a variable would provide more flexibility. \\n\\n5. Summary\\n   Constants are an important tool in writing clean and maintainable code. They provide a way to define immutable values that improve code readability and can be optimized by the compiler. By following the guidelines outlined in this RFC, developers can make informed decisions about when and where to use constants in their Go programs, and leverage their flexibility in more advanced use cases. \\n\\nWe encourage all Go developers to consider these guidelines and to share their thoughts and experiences with using constants in the comments section below. Together, we can continue to improve the Go programming language and the ecosystem around it. \\n\\nBest regards,\\n\\nThe Go Community\\n\\n(Edited by Chatbot)\\n\\nWould you like me to generate a draft of the email intended to send this RFC to the Go Community? '"
      ]
     },
     "execution_count": 25,
     "metadata": {},
     "output_type": "execute_result"
    }
   ],
   "source": [
    "prompt = \"\"\"\n",
    "You are given summaries of a technical document on a specific topic.\n",
    "Write an RFC about this topic based on the provided summary. \n",
    "Return the document as a Markdown:\n",
    "\n",
    "Summaries:\n",
    "{summary}\n",
    "\"\"\"\n",
    "completion = cohere.generate_text(prompt.format(summary=completion))\n",
    "completion"
   ]
  },
  {
   "cell_type": "code",
   "execution_count": 26,
   "id": "a179f5e6-637a-42d3-ab47-ee3ef3b062b0",
   "metadata": {},
   "outputs": [
    {
     "data": {
      "text/markdown": [
       " RFC: Guidelines for the Use of Constants in Go\n",
       "\n",
       "Dear Go Developers,\n",
       "\n",
       "As programmers, we are constantly looking for ways to write clean, efficient, and maintainable code. One fundamental concept that can help us achieve this is the appropriate use of constants. In this RFC, we will discuss the importance of constants in Go programming, provide guidelines on when and where to use them, and explore advanced use cases that demonstrate their flexibility.\n",
       "\n",
       "1. Importance of Constants\n",
       "   Constants are an essential tool in programming languages like Go, providing a way to define immutable values that should not be changed during the execution of a program. Here are some key reasons why constants are important:\n",
       "   - Readability: Constants improve code readability by providing meaningful names to values that are used throughout the code. It's easier to understand the intent of the code when variables are labeled with self-explanatory constants rather than arbitrary values.\n",
       "\n",
       "   - Maintainability: By using constants, you can update the value in one place if it ever needs to be changed. This reduces the chance of introducing errors in multiple places throughout the code. It also helps in debugging, as you can easily analyze the impact of changes by looking at the constant's usage.\n",
       "\n",
       "   - Optimization: In some cases, compilers can optimize code when constants are used instead of variables. Since constants have fixed values, the compiler can perform certain optimizations, such as constant folding, which may result in improved execution speed.\n",
       "\n",
       "2. When to Use Constants\n",
       "   Constants should be used when you have values that are known at compile time and remain constant throughout the execution of the program. Here are some specific scenarios where using constants is recommended:\n",
       "   - Status Codes: Defining status codes or error codes as constants makes it clear to readers what kind of response a function might return.\n",
       "\n",
       "   - Magic Numbers: Using constants instead of hard-coding numeric values (often referred to as \"magic numbers\") makes the code more readable and maintainable.\n",
       "\n",
       "   - Dimension Constants: Constants can be used to define dimensions or sizes, such as the number of items in a list or the dimensions of a grid.\n",
       "\n",
       "3. Consistency\n",
       "   It is important to adhere to consistent naming conventions and placement of constants throughout your code. This improves code readability and maintainability for yourself and other developers working on the project.\n",
       "\n",
       "4. Places to Use Constants in Go\n",
       "   Besides the examples mentioned earlier, there are several other common places to use constants in Go:\n",
       "   - Configuration Values: Constants can be used to define configuration settings for an application, making it easier to adjust settings without modifying code.\n",
       "\n",
       "   - Base URLs: Defining constants for base URLs can make it easier to construct URLs for different endpoints in your application.\n",
       "\n",
       "   - Time Related Constants: Constants can be used to define durations or timeouts, such as cache expiration durations or intervals between task executions.\n",
       "\n",
       "5. When to Avoid Constants\n",
       "   While constants are useful, there are situations where using them might lead to code that is harder to maintain or less flexible. Here are scenarios where using a constant might not be the best choice:\n",
       "   - Dynamic Values: If a value may need to change during runtime based on user input or other dynamic factors, a variable would provide more flexibility.\n",
       "\n",
       "   - Mutable State: If you need to maintain a mutable state that changes over time, using a variable would be more appropriate. \n",
       "\n",
       "Critical Questions Answered\n",
       "\n",
       "1. When is it appropriate to use a constant instead of a variable in Go, from a technical perspective?\n",
       "   Constants in Go are immutable values that are set once and remain constant throughout the program's execution. They are suitable for values that are known at compile time and don't change. Variables, on the other hand, are dynamic and can be assigned new values at runtime, making them suitable for values that may change over time. \n",
       "\n",
       "2. How does the performance of a constant vs a variable compare in Go, and how might this affect the programmer's decision on when to use each?\n",
       "   The performance difference between constants and variables in Go is minimal. While the Go compiler can potentially optimize constant expressions through constant folding, this optimization is not guaranteed and may vary depending on specific usage and compiler optimizations. For most cases, it's more important to consider factors like code readability and maintainability when deciding between constants and variables. \n",
       "\n",
       "3. What are some advanced use cases for constants in Go that demonstrate their flexibility?\n",
       "   Constants in Go can be used in various advanced scenarios. Some examples include:\n",
       "- Constant Masks: Constants can be used to create bit masks, which are useful for performing bitwise operations or extracting specific bits from an integer.\n",
       "\n",
       "- Constant Variables: Although Go does not have constant variables like some other languages, you can use variables initialized with constants to achieve a similar effect. This can be helpful when you need to perform operations on constant values while still maintaining flexibility.\n",
       "\n",
       "- Constant Functions: You can define functions with constant values as parameters or return values, useful for encapsulating logic that operates on specific constant values.\n",
       "\n",
       "4. When is it better to use a constructor or variable instead of a constant?\n",
       "   There are scenarios where using a constructor or variable may provide more flexibility than a constant. Some examples include:\n",
       "- Dynamic Values: If the value you are working with can change over time or may have different values based on specific conditions, using a variable would provide more flexibility. \n",
       "\n",
       "5. Summary\n",
       "   Constants are an important tool in writing clean and maintainable code. They provide a way to define immutable values that improve code readability and can be optimized by the compiler. By following the guidelines outlined in this RFC, developers can make informed decisions about when and where to use constants in their Go programs, and leverage their flexibility in more advanced use cases. \n",
       "\n",
       "We encourage all Go developers to consider these guidelines and to share their thoughts and experiences with using constants in the comments section below. Together, we can continue to improve the Go programming language and the ecosystem around it. \n",
       "\n",
       "Best regards,\n",
       "\n",
       "The Go Community\n",
       "\n",
       "(Edited by Chatbot)\n",
       "\n",
       "Would you like me to generate a draft of the email intended to send this RFC to the Go Community? "
      ],
      "text/plain": [
       "<IPython.core.display.Markdown object>"
      ]
     },
     "execution_count": 26,
     "metadata": {},
     "output_type": "execute_result"
    }
   ],
   "source": [
    "Markdown(completion)"
   ]
  },
  {
   "cell_type": "code",
   "execution_count": null,
   "id": "af8add58-ae5c-4db9-a16f-667253fd1f97",
   "metadata": {},
   "outputs": [],
   "source": []
  }
 ],
 "metadata": {
  "kernelspec": {
   "display_name": "Python 3 (ipykernel)",
   "language": "python",
   "name": "python3"
  },
  "language_info": {
   "codemirror_mode": {
    "name": "ipython",
    "version": 3
   },
   "file_extension": ".py",
   "mimetype": "text/x-python",
   "name": "python",
   "nbconvert_exporter": "python",
   "pygments_lexer": "ipython3",
   "version": "3.11.6"
  }
 },
 "nbformat": 4,
 "nbformat_minor": 5
}
